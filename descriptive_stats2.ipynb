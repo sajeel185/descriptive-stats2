{
 "cells": [
  {
   "cell_type": "code",
   "execution_count": 65,
   "metadata": {},
   "outputs": [],
   "source": [
    "import numpy as np\n",
    "import pandas as pd\n",
    "import matplotlib.pyplot as plt\n",
    "%matplotlib inline"
   ]
  },
  {
   "cell_type": "code",
   "execution_count": 66,
   "metadata": {},
   "outputs": [
    {
     "name": "stdout",
     "output_type": "stream",
     "text": [
      "mean: 3.1545712045166776\n",
      "Standard Deviation: 1.0870847626168587\n"
     ]
    },
    {
     "data": {
      "image/png": "[encoded data removed]",
      "text/plain": [
       "<Figure size 432x288 with 1 Axes>"
      ]
     },
     "metadata": {
      "needs_background": "light"
     },
     "output_type": "display_data"
    }
   ],
   "source": [
    "#Graph of Uniform Distribution\n",
    "\n",
    "udist = np.random.uniform(1, 5, 100)\n",
    "udist_mean = np.mean(udist)\n",
    "udist_std = np.std(udist)\n",
    "print(\"mean: \" + str(udist_mean))\n",
    "print(\"Standard Deviation: \" + str(udist_std))\n",
    "plt.hist(udist)\n",
    "plt.axvline(udist.mean(), color='b', linestyle='solid', linewidth=2)\n",
    "plt.axvline(udist.mean() + udist.std(), color='b', linestyle='dashed', linewidth=2)\n",
    "plt.axvline(udist.mean()- udist.std(), color='b', linestyle='dashed', linewidth=2) \n",
    "plt.show()"
   ]
  },
  {
   "cell_type": "code",
   "execution_count": 67,
   "metadata": {},
   "outputs": [
    {
     "name": "stdout",
     "output_type": "stream",
     "text": [
      "mean: 4.567656829861034\n",
      "Standard Deviation: 7.25240074697984\n"
     ]
    },
    {
     "data": {
      "image/png": "[encoded data removed]",
      "text/plain": [
       "<Figure size 432x288 with 1 Axes>"
      ]
     },
     "metadata": {
      "needs_background": "light"
     },
     "output_type": "display_data"
    }
   ],
   "source": [
    "#Graph of Wald Distribution\n",
    "\n",
    "wdist = np.random.wald(5, 1, 100)\n",
    "wdist_mean = np.mean(wdist)\n",
    "wdist_std = np.std(wdist)\n",
    "print(\"mean: \" + str(wdist_mean))\n",
    "print(\"Standard Deviation: \" + str(wdist_std))\n",
    "plt.hist(wdist)\n",
    "plt.axvline(wdist.mean(), color='b', linestyle='solid', linewidth=2)\n",
    "plt.axvline(wdist.mean() + wdist.std(), color='b', linestyle='dashed', linewidth=2)\n",
    "plt.axvline(wdist.mean()- wdist.std(), color='b', linestyle='dashed', linewidth=2) \n",
    "plt.show()"
   ]
  },
  {
   "cell_type": "code",
   "execution_count": 68,
   "metadata": {},
   "outputs": [
    {
     "name": "stdout",
     "output_type": "stream",
     "text": [
      "mean: 1.0\n",
      "Standard Deviation: 0.9121403400793103\n"
     ]
    },
    {
     "data": {
      "image/png": "[encoded data removed]",
      "text/plain": [
       "<Figure size 432x288 with 1 Axes>"
      ]
     },
     "metadata": {
      "needs_background": "light"
     },
     "output_type": "display_data"
    }
   ],
   "source": [
    "#Graph of Mulitnomial Distribution\n",
    "\n",
    "mndist = np.random.multinomial(5, [1/5]*5, 100)\n",
    "mndist_mean = np.mean(mndist)\n",
    "mndist_std = np.std(mndist)\n",
    "print(\"mean: \" + str(mndist_mean))\n",
    "print(\"Standard Deviation: \" + str(mndist_std))\n",
    "plt.hist(mndist)\n",
    "plt.axvline(mndist.mean(), color='b', linestyle='solid', linewidth=2)\n",
    "plt.axvline(mndist.mean() + mndist.std(), color='b', linestyle='dashed', linewidth=2)\n",
    "plt.axvline(mndist.mean()- mndist.std(), color='b', linestyle='dashed', linewidth=2) \n",
    "plt.show()"
   ]
  },
  {
   "cell_type": "markdown",
   "metadata": {},
   "source": [
    "type notes here"
   ]
  },
  {
   "cell_type": "code",
   "execution_count": 69,
   "metadata": {},
   "outputs": [
    {
     "name": "stdout",
     "output_type": "stream",
     "text": [
      "mean: 15.046604459532212\n",
      "Standard Deviation: 1.0822817362584896\n"
     ]
    },
    {
     "data": {
      "image/png": "[encoded data removed]",
      "text/plain": [
       "<Figure size 432x288 with 1 Axes>"
      ]
     },
     "metadata": {
      "needs_background": "light"
     },
     "output_type": "display_data"
    }
   ],
   "source": [
    "var1 = np.random.normal(5,.5, 100)\n",
    "var2 = np.random.normal(10,1, 100)\n",
    "var3 = var1+var2\n",
    "\n",
    "var3_mean = np.mean(var3)\n",
    "var3_std = np.std(var3)\n",
    "print(\"mean: \" + str(var3_mean))\n",
    "print(\"Standard Deviation: \" + str(var3_std))\n",
    "plt.hist(var3)\n",
    "plt.axvline(var3.mean(), color='b', linestyle='solid', linewidth=2)\n",
    "plt.axvline(var3.mean() + var3.std(), color='b', linestyle='dashed', linewidth=2)\n",
    "plt.axvline(var3.mean()- var3.std(), color='b', linestyle='dashed', linewidth=2) \n",
    "plt.show()"
   ]
  },
  {
   "cell_type": "markdown",
   "metadata": {},
   "source": [
    "The result will depend on the random numbers of our data, and so will wary each time the experiment is conducted.  But we can expect the distribution to stay normal as long as the datapoints are selected randomly independant of one another."
   ]
  }
 ],
 "metadata": {
  "kernelspec": {
   "display_name": "Python 3",
   "language": "python",
   "name": "python3"
  },
  "language_info": {
   "codemirror_mode": {
    "name": "ipython",
    "version": 3
   },
   "file_extension": ".py",
   "mimetype": "text/x-python",
   "name": "python",
   "nbconvert_exporter": "python",
   "pygments_lexer": "ipython3",
   "version": "3.7.0"
  }
 },
 "nbformat": 4,
 "nbformat_minor": 2
}
